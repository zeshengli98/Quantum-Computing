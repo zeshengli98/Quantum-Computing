{
 "cells": [
  {
   "cell_type": "code",
   "execution_count": 34,
   "metadata": {
    "pycharm": {
     "is_executing": true,
     "name": "#%%\n"
    }
   },
   "outputs": [],
   "source": [
    "import numpy as np\n",
    "import timeit\n",
    "import pandas as pd\n",
    "from scipy.stats import norm\n",
    "import matplotlib.pyplot as plt"
   ]
  },
  {
   "cell_type": "code",
   "execution_count": 17,
   "metadata": {},
   "outputs": [],
   "source": [
    "def create_gbm_minute(init_price, mu, sigma, length):\n",
    "    \"\"\"\n",
    "    Calculates an asset price path using the analytical solution\n",
    "    to the Geometric Brownian Motion stochastic differential\n",
    "    equation (SDE).\n",
    "\n",
    "    Parameters\n",
    "    ----------\n",
    "    length : The int number needed to calculate length of the time series.\n",
    "    init_price: Asset inital price.\n",
    "    mu: The mean 'drift' of the asset.\n",
    "    sigma: Volatility expressed annual terms.\n",
    "\n",
    "    Returns\n",
    "    -------\n",
    "    `np.ndarray`\n",
    "        The asset price path\n",
    "    \"\"\"\n",
    "    n = length\n",
    "    dt = 1 / (255 * 6.5 * 60) \n",
    "\n",
    "    asset_path = np.exp(\n",
    "        (mu - sigma ** 2 / 2) * dt +\n",
    "        sigma * np.random.normal(0, np.sqrt(dt), size=n)\n",
    "    )\n",
    "\n",
    "    return init_price * asset_path.cumprod()"
   ]
  },
  {
   "cell_type": "code",
   "execution_count": 18,
   "metadata": {},
   "outputs": [],
   "source": [
    "\n",
    "def Function_runtime(func,*args, **kwargs):\n",
    "    start = timeit.default_timer()\n",
    "    result = func(*args, **kwargs)\n",
    "    \n",
    "    stop = timeit.default_timer()\n",
    "    time = stop-start\n",
    "    return result, time"
   ]
  },
  {
   "cell_type": "code",
   "execution_count": 20,
   "metadata": {},
   "outputs": [
    {
     "name": "stdout",
     "output_type": "stream",
     "text": [
      "Generating asset path completed 100%\r"
     ]
    }
   ],
   "source": [
    "minutes_length = int(255*6.5*60) \n",
    "num_assets = 10000\n",
    "assets = np.zeros((num_assets,minutes_length))\n",
    "for i in range(num_assets):\n",
    "    if(i)%100 == 0:\n",
    "        print(f\"Generating asset path completed {int(i/num_assets*100)}%\", end = \"\\r\" )\n",
    "    assets[i] = create_gbm_minute(100, 0.01, 0.2, minutes_length)\n",
    "print(f\"Generating asset path completed 100%\", end = \"\\r\" )"
   ]
  },
  {
   "cell_type": "code",
   "execution_count": null,
   "outputs": [],
   "source": [
    "# Plot initial 10 simulated path using matplotlib\n",
    "fig, axes = plt.subplots(1,1,figsize = (12,8))\n",
    "for i in range(20):\n",
    "    axes.plot(assets[i])\n",
    "# plt.grid(True)\n",
    "plt.xlabel('Minute Steps')\n",
    "plt.ylabel('Index Levels')\n",
    "plt.title('GBM Simulated Asset Prices');\n",
    "fig.savefig(\"figures/prices_simulation.jpg\",dpi=400)"
   ],
   "metadata": {
    "collapsed": false,
    "pycharm": {
     "name": "#%%\n"
    }
   }
  },
  {
   "cell_type": "code",
   "execution_count": null,
   "outputs": [],
   "source": [
    "asset_easy = assets[:100,:]\n",
    "asset_medium = assets[:1000,:]\n",
    "asset_hard = assets"
   ],
   "metadata": {
    "collapsed": false,
    "pycharm": {
     "name": "#%%\n"
    }
   }
  },
  {
   "cell_type": "code",
   "execution_count": null,
   "outputs": [],
   "source": [
    "easy_runtime = Function_runtime(np.cov, asset_easy)[1]\n",
    "print(f\"100 assets running time: {easy_runtime}\")"
   ],
   "metadata": {
    "collapsed": false,
    "pycharm": {
     "name": "#%%\n"
    }
   }
  },
  {
   "cell_type": "code",
   "execution_count": null,
   "outputs": [],
   "source": [
    "medium_runtime = Function_runtime(np.cov, asset_medium)[1]\n",
    "print(f\"1000 assets running time: {medium_runtime}\")"
   ],
   "metadata": {
    "collapsed": false,
    "pycharm": {
     "name": "#%%\n"
    }
   }
  },
  {
   "cell_type": "code",
   "execution_count": null,
   "outputs": [],
   "source": [
    "hard_runtime = Function_runtime(np.cov, asset_hard)[1]\n",
    "print(f\"10000 assets running time: {hard_runtime}\")"
   ],
   "metadata": {
    "collapsed": false,
    "pycharm": {
     "name": "#%%\n"
    }
   }
  },
  {
   "cell_type": "code",
   "execution_count": null,
   "outputs": [],
   "source": [
    "# plot the figures to demonstrate my conclusions\n",
    "fig, axes = plt.subplots(1,1,figsize = (8,6))\n",
    "label = [\"N_assets = \"+str(n) for n in [100,1000,10000]]\n",
    "\n",
    "Runtime_pd = pd.DataFrame({\n",
    "    \"cov_runtime\":[easy_runtime,medium_runtime,hard_runtime],\n",
    "    },\n",
    "    index=label)\n",
    "Runtime_pd.plot.bar(rot = 0,figsize=(15, 8), ax = axes,title = \"Cov Calculation Time (seconds)\")\n",
    "axes.set_xlabel('Number of assets')\n",
    "axes.set_ylabel('Time (seconds)')\n",
    "fig.savefig(\"figures/running_time.jpg\",dpi=400)"
   ],
   "metadata": {
    "collapsed": false,
    "pycharm": {
     "name": "#%%\n"
    }
   }
  },
  {
   "cell_type": "code",
   "execution_count": null,
   "outputs": [],
   "source": [
    "np.around(Runtime_pd,2)"
   ],
   "metadata": {
    "collapsed": false,
    "pycharm": {
     "name": "#%%\n"
    }
   }
  },
  {
   "cell_type": "code",
   "execution_count": 54,
   "metadata": {},
   "outputs": [
    {
     "data": {
      "text/html": [
       "<div>\n",
       "<style scoped>\n",
       "    .dataframe tbody tr th:only-of-type {\n",
       "        vertical-align: middle;\n",
       "    }\n",
       "\n",
       "    .dataframe tbody tr th {\n",
       "        vertical-align: top;\n",
       "    }\n",
       "\n",
       "    .dataframe thead th {\n",
       "        text-align: right;\n",
       "    }\n",
       "</style>\n",
       "<table border=\"1\" class=\"dataframe\">\n",
       "  <thead>\n",
       "    <tr style=\"text-align: right;\">\n",
       "      <th></th>\n",
       "      <th>cov_runtime</th>\n",
       "    </tr>\n",
       "  </thead>\n",
       "  <tbody>\n",
       "    <tr>\n",
       "      <th>N_assets = 100</th>\n",
       "      <td>0.04</td>\n",
       "    </tr>\n",
       "    <tr>\n",
       "      <th>N_assets = 1000</th>\n",
       "      <td>1.19</td>\n",
       "    </tr>\n",
       "    <tr>\n",
       "      <th>N_assets = 10000</th>\n",
       "      <td>141.78</td>\n",
       "    </tr>\n",
       "  </tbody>\n",
       "</table>\n",
       "</div>"
      ],
      "text/plain": [
       "                  cov_runtime\n",
       "N_assets = 100           0.04\n",
       "N_assets = 1000          1.19\n",
       "N_assets = 10000       141.78"
      ]
     },
     "execution_count": 54,
     "metadata": {},
     "output_type": "execute_result"
    }
   ],
   "source": [
    "np.around(Runtime_pd,2)"
   ]
  },
  {
   "cell_type": "code",
   "execution_count": null,
   "metadata": {},
   "outputs": [],
   "source": []
  }
 ],
 "metadata": {
  "kernelspec": {
   "display_name": "Python 3 (ipykernel)",
   "language": "python",
   "name": "python3"
  },
  "language_info": {
   "codemirror_mode": {
    "name": "ipython",
    "version": 3
   },
   "file_extension": ".py",
   "mimetype": "text/x-python",
   "name": "python",
   "nbconvert_exporter": "python",
   "pygments_lexer": "ipython3",
   "version": "3.9.12"
  }
 },
 "nbformat": 4,
 "nbformat_minor": 1
}