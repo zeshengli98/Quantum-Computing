{
 "cells": [
  {
   "cell_type": "code",
   "execution_count": 2,
   "metadata": {
    "pycharm": {
     "is_executing": true,
     "name": "#%%\n"
    }
   },
   "outputs": [],
   "source": [
    "import matplotlib.pyplot as plt\n",
    "from datetime import datetime\n",
    "%matplotlib inline\n",
    "import time\n",
    "import numpy as np\n",
    "from qiskit import *\n",
    "from qiskit import IBMQ\n",
    "from qiskit import Aer, QuantumCircuit\n",
    "from qiskit.utils import QuantumInstance\n",
    "from qiskit.providers.aer import AerSimulator\n",
    "from qiskit.algorithms import IterativeAmplitudeEstimation, EstimationProblem\n",
    "from qiskit.circuit.library import LinearAmplitudeFunction\n",
    "from qiskit_finance.circuit.library import LogNormalDistribution"
   ]
  },
  {
   "cell_type": "markdown",
   "metadata": {
    "pycharm": {
     "name": "#%% md\n"
    }
   },
   "source": [
    "## 1. Option params"
   ]
  },
  {
   "cell_type": "code",
   "execution_count": 3,
   "metadata": {
    "pycharm": {
     "name": "#%%\n"
    }
   },
   "outputs": [],
   "source": [
    "# parameters for considered random distribution\n",
    "S = 200  # initial spot price\n",
    "vol = 0.3  # volatility of 30%\n",
    "r = 0.01  # annual interest rate of 1%\n",
    "T = 100 / 365  # 100 days to maturity\n",
    "strike_price = 186"
   ]
  },
  {
   "cell_type": "markdown",
   "metadata": {
    "pycharm": {
     "name": "#%% md\n"
    }
   },
   "source": [
    "## 2.black scholes"
   ]
  },
  {
   "cell_type": "code",
   "execution_count": 4,
   "metadata": {
    "pycharm": {
     "name": "#%%\n"
    }
   },
   "outputs": [
    {
     "data": {
      "text/plain": [
       "20.674214910370154"
      ]
     },
     "execution_count": 4,
     "metadata": {},
     "output_type": "execute_result"
    }
   ],
   "source": [
    "from scipy.stats import norm,kstest,shapiro,t\n",
    "def black_scholes(S,K,T,r,q,sigma,call=True):\n",
    "    d1 = (np.log(S/K)+(r-q+sigma**2/2)*T)/(sigma*np.sqrt(T))\n",
    "    d2 = d1-sigma*np.sqrt(T)\n",
    "    if call==True:\n",
    "        return S*np.exp(-q*T)*norm.cdf(d1)-K*np.exp(-r*T)*norm.cdf(d2)\n",
    "    else:\n",
    "        return K*np.exp(-r*T)*norm.cdf(-d2)-S*np.exp(-q*T)*norm.cdf(-d1)\n",
    "    \n",
    "bs_price = black_scholes(S,strike_price,T,r,0,vol,call=True)\n",
    "bs_price"
   ]
  },
  {
   "cell_type": "markdown",
   "metadata": {
    "pycharm": {
     "name": "#%% md\n"
    }
   },
   "source": [
    "## Classical Monte Carlo Simulation"
   ]
  },
  {
   "cell_type": "code",
   "execution_count": 5,
   "metadata": {
    "pycharm": {
     "name": "#%%\n"
    }
   },
   "outputs": [],
   "source": [
    "def geo_paths(S, T, r, q, sigma, steps, N):\n",
    "    \"\"\"\n",
    "    Inputs\n",
    "    #S = Current stock Price\n",
    "    #K = Strike Price\n",
    "    #T = Time to maturity 1 year = 1, 1 months = 1/12\n",
    "    #r = risk free interest rate\n",
    "    #q = dividend yield\n",
    "    # sigma = volatility \n",
    "    \n",
    "    Output\n",
    "    # [steps,N] Matrix of asset paths \n",
    "    \"\"\"\n",
    "    dt = T/steps\n",
    "    #S_{T} = ln(S_{0})+\\int_{0}^T(\\mu-\\frac{\\sigma^2}{2})dt+\\int_{0}^T \\sigma dW(t)\n",
    "    ST = np.log(S) +  np.cumsum(((r - q - sigma**2/2)*dt +\\\n",
    "                              sigma*np.sqrt(dt) * \\\n",
    "                              np.random.normal(size=(steps,N))),axis=0)\n",
    "    \n",
    "    return np.exp(ST)\n",
    "\n"
   ]
  },
  {
   "cell_type": "code",
   "execution_count": 6,
   "metadata": {
    "pycharm": {
     "name": "#%%\n"
    }
   },
   "outputs": [
    {
     "name": "stdout",
     "output_type": "stream",
     "text": [
      "Number of Samples: 2\n",
      "classical computer MC MAPE is 68.9853%\n",
      "running time on simulator: 0.14059805870056152\n",
      "Number of Samples: 4\n",
      "classical computer MC MAPE is 47.6488%\n",
      "running time on simulator: 0.14094901084899902\n",
      "Number of Samples: 8\n",
      "classical computer MC MAPE is 33.3671%\n",
      "running time on simulator: 0.19440793991088867\n",
      "Number of Samples: 16\n",
      "classical computer MC MAPE is 24.1673%\n",
      "running time on simulator: 0.2947530746459961\n",
      "Number of Samples: 32\n",
      "classical computer MC MAPE is 17.2393%\n",
      "running time on simulator: 0.4968910217285156\n",
      "Number of Samples: 64\n",
      "classical computer MC MAPE is 12.0513%\n",
      "running time on simulator: 0.913916826248169\n",
      "Number of Samples: 128\n",
      "classical computer MC MAPE is 8.4125%\n",
      "running time on simulator: 1.7386279106140137\n",
      "Number of Samples: 256\n",
      "classical computer MC MAPE is 5.9838%\n",
      "running time on simulator: 3.771589756011963\n",
      "Number of Samples: 512\n",
      "classical computer MC MAPE is 4.2099%\n",
      "running time on simulator: 8.365385055541992\n",
      "Number of Samples: 1024\n",
      "classical computer MC MAPE is 3.0045%\n",
      "running time on simulator: 19.212873935699463\n",
      "Number of Samples: 2048\n",
      "classical computer MC MAPE is 2.1147%\n",
      "running time on simulator: 38.898736238479614\n"
     ]
    }
   ],
   "source": [
    "\n",
    "mape_classical = []\n",
    "payoff_classical = []\n",
    "runtime_classical = []\n",
    "for q in range(1,12):\n",
    "    time_start = time.time()\n",
    "    est_prices = []\n",
    "\n",
    "    steps = 100 # time steps\n",
    "    N = 2**q # number of trials\n",
    "\n",
    "    for i in range(4000):\n",
    "        paths= geo_paths(S,T,r, 0,vol,steps,N)\n",
    "        payoffs = np.maximum(paths[-1]-strike_price, 0)\n",
    "        option_price = np.mean(payoffs)*np.exp(-r*T) #discounting back to present value\n",
    "        est_prices.append(option_price)\n",
    "\n",
    "\n",
    "    time_end = time.time()\n",
    "    MAPE_classical_mc = np.mean(np.abs((bs_price - est_prices) / bs_price))\n",
    "    payoff_classical.append(est_prices[-1])\n",
    "    mape_classical.append(MAPE_classical_mc)\n",
    "    runtime_classical.append(time_end-time_start)\n",
    "    print(f\"Number of Samples: {N}\")\n",
    "    print(f\"classical computer MC MAPE is {round(MAPE_classical_mc*100,4)}%\")\n",
    "    print(f\"running time on simulator: {time_end-time_start}\")"
   ]
  },
  {
   "cell_type": "code",
   "execution_count": 7,
   "metadata": {
    "pycharm": {
     "name": "#%%\n"
    }
   },
   "outputs": [
    {
     "name": "stdout",
     "output_type": "stream",
     "text": [
      "Number of Samples: 16384\n",
      "classical computer MC MAPE is 1.1008%\n",
      "running time on simulator: 0.08637070655822754\n"
     ]
    }
   ],
   "source": [
    "time_start = time.time()\n",
    "\n",
    "\n",
    "steps = 1 # time steps\n",
    "N = 2**14 # number of trials\n",
    "\n",
    "for i in range(100):\n",
    "    paths= geo_paths(S,T,r, 0,vol,steps,N)\n",
    "    payoffs = np.maximum(paths[-1]-strike_price, 0)\n",
    "    option_price = np.mean(payoffs)*np.exp(-r*T) #discounting back to present value\n",
    "\n",
    "\n",
    "time_end = time.time()\n",
    "MAPE_classical_mc = np.mean(np.abs((bs_price - option_price) / bs_price))\n",
    "\n",
    "print(f\"Number of Samples: {N}\")\n",
    "print(f\"classical computer MC MAPE is {round(MAPE_classical_mc*100,4)}%\")\n",
    "print(f\"running time on simulator: {time_end-time_start}\")"
   ]
  },
  {
   "cell_type": "code",
   "execution_count": 8,
   "metadata": {
    "pycharm": {
     "name": "#%%\n"
    }
   },
   "outputs": [
    {
     "data": {
      "text/plain": [
       "Text(0.5, 1.0, 'Geometric Brownian Motion')"
      ]
     },
     "execution_count": 8,
     "metadata": {},
     "output_type": "execute_result"
    },
    {
     "data": {
      "image/png": "[encoded data removed]",
      "text/plain": [
       "<Figure size 432x288 with 1 Axes>"
      ]
     },
     "metadata": {
      "needs_background": "light"
     },
     "output_type": "display_data"
    }
   ],
   "source": [
    "# print(paths[-1])\n",
    "plt.plot(paths[-1]);\n",
    "plt.xlabel(\"Time Increments\")\n",
    "plt.ylabel(\"Stock Price\")\n",
    "plt.title(\"Geometric Brownian Motion\")"
   ]
  },
  {
   "cell_type": "code",
   "execution_count": 9,
   "metadata": {
    "pycharm": {
     "name": "#%%\n"
    }
   },
   "outputs": [
    {
     "data": {
      "text/plain": [
       "Text(0.5, 1.0, 'Geometric Brownian Motion')"
      ]
     },
     "execution_count": 9,
     "metadata": {},
     "output_type": "execute_result"
    },
    {
     "data": {
      "image/png": "[encoded data removed]",
      "text/plain": [
       "<Figure size 432x288 with 1 Axes>"
      ]
     },
     "metadata": {
      "needs_background": "light"
     },
     "output_type": "display_data"
    }
   ],
   "source": [
    "# print(paths[-1])\n",
    "plt.plot(paths[-1]);\n",
    "plt.xlabel(\"Time Increments\")\n",
    "plt.ylabel(\"Stock Price\")\n",
    "plt.title(\"Geometric Brownian Motion\")"
   ]
  },
  {
   "cell_type": "code",
   "execution_count": null,
   "metadata": {
    "pycharm": {
     "name": "#%%\n"
    }
   },
   "outputs": [],
   "source": []
  },
  {
   "cell_type": "code",
   "execution_count": 10,
   "metadata": {
    "pycharm": {
     "name": "#%%\n"
    }
   },
   "outputs": [],
   "source": [
    "def Function_runtime(func,*args, **kwargs):\n",
    "    start = timeit.default_timer()\n",
    "    result = func(*args, **kwargs)\n",
    "    \n",
    "    stop = timeit.default_timer()\n",
    "    time = stop-start\n",
    "    return result, time"
   ]
  },
  {
   "cell_type": "code",
   "execution_count": null,
   "metadata": {
    "pycharm": {
     "name": "#%%\n"
    }
   },
   "outputs": [],
   "source": []
  },
  {
   "cell_type": "code",
   "execution_count": null,
   "metadata": {
    "pycharm": {
     "name": "#%%\n"
    }
   },
   "outputs": [],
   "source": []
  },
  {
   "cell_type": "code",
   "execution_count": null,
   "metadata": {
    "pycharm": {
     "name": "#%%\n"
    }
   },
   "outputs": [],
   "source": []
  },
  {
   "cell_type": "code",
   "execution_count": null,
   "metadata": {
    "pycharm": {
     "name": "#%%\n"
    }
   },
   "outputs": [],
   "source": [
    "\n",
    "\n"
   ]
  },
  {
   "cell_type": "code",
   "execution_count": 11,
   "metadata": {
    "pycharm": {
     "name": "#%%\n"
    }
   },
   "outputs": [
    {
     "name": "stdout",
     "output_type": "stream",
     "text": [
      "Number of Samples: 2\n",
      "Estimated value:    \t105.8080\n",
      "running time on simulator: 1.0245640277862549\n",
      "QC MC MAPE is 411.7874%\n",
      "Number of Samples: 4\n",
      "Estimated value:    \t22.1587\n",
      "running time on simulator: 0.09283685684204102\n",
      "QC MC MAPE is 7.1802%\n",
      "Number of Samples: 8\n",
      "Estimated value:    \t20.5716\n",
      "running time on simulator: 0.20656895637512207\n",
      "QC MC MAPE is 0.4962%\n",
      "Number of Samples: 16\n",
      "Estimated value:    \t21.1026\n",
      "running time on simulator: 0.21802592277526855\n",
      "QC MC MAPE is 2.072%\n",
      "Number of Samples: 32\n",
      "Estimated value:    \t20.9485\n",
      "running time on simulator: 0.41384315490722656\n",
      "QC MC MAPE is 1.3266%\n",
      "Number of Samples: 64\n",
      "Estimated value:    \t20.9209\n",
      "running time on simulator: 0.7279098033905029\n",
      "QC MC MAPE is 1.1933%\n",
      "Number of Samples: 128\n",
      "Estimated value:    \t20.8969\n",
      "running time on simulator: 1.5571260452270508\n",
      "QC MC MAPE is 1.0772%\n",
      "Number of Samples: 256\n",
      "Estimated value:    \t20.8856\n",
      "running time on simulator: 3.4965150356292725\n",
      "QC MC MAPE is 1.0226%\n",
      "Number of Samples: 512\n",
      "Estimated value:    \t20.8808\n",
      "running time on simulator: 8.499259948730469\n",
      "QC MC MAPE is 0.9992%\n",
      "Number of Samples: 1024\n",
      "Estimated value:    \t20.8780\n",
      "running time on simulator: 23.080307006835938\n",
      "QC MC MAPE is 0.9859%\n",
      "Number of Samples: 2048\n",
      "Estimated value:    \t20.8767\n",
      "running time on simulator: 75.86083722114563\n",
      "QC MC MAPE is 0.9793%\n"
     ]
    }
   ],
   "source": [
    "\n",
    "mape_quantum = []\n",
    "payoff_quantum = []\n",
    "runtime_quantum = []\n",
    "for q in range(1,12):\n",
    "    time_start = time.time()\n",
    "\n",
    "    # number of qubits to represent the uncertainty\n",
    "    num_uncertainty_qubits = q\n",
    "\n",
    "\n",
    "    # resulting parameters for log-normal distribution\n",
    "    mu = (r - 0.5 * vol**2) * T + np.log(S)\n",
    "    sigma = vol * np.sqrt(T)\n",
    "    mean = np.exp(mu + sigma**2 / 2)\n",
    "    variance = (np.exp(sigma**2) - 1) * np.exp(2 * mu + sigma**2)\n",
    "    stddev = np.sqrt(variance)\n",
    "\n",
    "    # lowest and highest value considered for the spot price; in between, an equidistant discretization is considered.\n",
    "    low = np.maximum(0, mean - 3 * stddev)\n",
    "    high = mean + 3 * stddev\n",
    "\n",
    "    # construct A operator for QAE for the payoff function by\n",
    "    # composing the uncertainty model and the objective\n",
    "    uncertainty_model = LogNormalDistribution(\n",
    "        num_uncertainty_qubits, mu=mu, sigma=sigma**2, bounds=(low, high)\n",
    "    )\n",
    "\n",
    "    # set the approximation scaling for the payoff function\n",
    "    c_approx = 0.25\n",
    "\n",
    "    # setup piecewise linear objective fcuntion\n",
    "    breakpoints = [low, strike_price]\n",
    "    slopes = [0, 1]\n",
    "    offsets = [0, 0]\n",
    "    f_min = 0\n",
    "    f_max = high - strike_price\n",
    "    european_call_objective = LinearAmplitudeFunction(\n",
    "        num_uncertainty_qubits,\n",
    "        slopes,\n",
    "        offsets,\n",
    "        domain=(low, high),\n",
    "        image=(f_min, f_max),\n",
    "        breakpoints=breakpoints,\n",
    "        rescaling_factor=c_approx,\n",
    "    )\n",
    "\n",
    "\n",
    "    # construct A operator for QAE for the payoff function by\n",
    "    # composing the uncertainty model and the objective\n",
    "    num_qubits = european_call_objective.num_qubits\n",
    "    european_call = QuantumCircuit(num_qubits)\n",
    "    european_call.append(uncertainty_model, range(num_uncertainty_qubits))\n",
    "    european_call.append(european_call_objective, range(num_qubits))\n",
    "\n",
    "    # draw the circuit\n",
    "    european_call.draw()\n",
    "\n",
    "    from qiskit_finance.applications.estimation import EuropeanCallPricing\n",
    "\n",
    "    european_call_pricing = EuropeanCallPricing(\n",
    "        num_state_qubits=num_uncertainty_qubits,\n",
    "        strike_price=strike_price,\n",
    "        rescaling_factor=c_approx,\n",
    "        bounds=(low, high),\n",
    "        uncertainty_model=uncertainty_model,\n",
    "    )\n",
    "\n",
    "    epsilon = 0.1\n",
    "    alpha = 0.05\n",
    "\n",
    "    # exact_value = np.dot(uncertainty_model.probabilities, y)\n",
    "    # qi = QuantumInstance(Aer.get_backend(\"aer_simulator\"), shots=4000)\n",
    "    statevector_simulator = AerSimulator(method='statevector',shots=4000)\n",
    "    # extended_stabilizer_simulator = AerSimulator(method='extended_stabilizer')\n",
    "    problem = european_call_pricing.to_estimation_problem()\n",
    "    # construct amplitude estimation\n",
    "    ae = IterativeAmplitudeEstimation(epsilon, alpha=alpha, quantum_instance=statevector_simulator)\n",
    "    result = ae.estimate(problem)\n",
    "\n",
    "    conf_int = np.array(result.confidence_interval_processed)\n",
    "    ev_option = european_call_pricing.interpret(result)\n",
    "    # print(\"Exact value:        \\t%.4f\" % exact_value)\n",
    "    print(f\"Number of Samples: {2**q}\")\n",
    "    print(\"Estimated value:    \\t%.4f\" % (ev_option))\n",
    "#     print(\"Confidence interval:\\t[%.4f, %.4f]\" % tuple(conf_int))\n",
    "    time_end = time.time()\n",
    "    runtime_quantum.append(time_end-time_start)\n",
    "    print(f\"running time on simulator: {time_end-time_start}\")\n",
    "    MAPE_qc_simulator = np.abs(ev_option-bs_price)/bs_price\n",
    "    print(f\"QC MC MAPE is {round(MAPE_qc_simulator*100,4)}%\")\n",
    "    mape_quantum.append(MAPE_qc_simulator)\n",
    "    payoff_quantum.append(ev_option)"
   ]
  },
  {
   "cell_type": "code",
   "execution_count": null,
   "outputs": [],
   "source": [
    "mape_quantum"
   ],
   "metadata": {
    "collapsed": false,
    "pycharm": {
     "name": "#%%\n"
    }
   }
  },
  {
   "cell_type": "code",
   "execution_count": null,
   "outputs": [],
   "source": [
    "fig, ax = plt.subplots(1,1,figsize=(10,8))\n",
    "ax.plot([f\"{2**q}\" for q in range(2,12)],mape_classical[1:], label = 'Classical Monte Carlo')\n",
    "ax.plot([f\"{2**q}\" for q in range(2,12)],mape_quantum[1:], label = 'Quantum')\n",
    "ax.set_title(\"Estimation Error\")\n",
    "ax.set_xlabel(\"Number of Samples\")\n",
    "ax.set_ylabel(\"MAPE\")\n",
    "ax.legend()"
   ],
   "metadata": {
    "collapsed": false,
    "pycharm": {
     "name": "#%%\n"
    }
   }
  },
  {
   "cell_type": "code",
   "execution_count": null,
   "outputs": [],
   "source": [
    "fig, ax = plt.subplots(1,1,figsize=(10,8))\n",
    "ax.plot([f\"{2**q}\" for q in range(2,12)],payoff_classical[1:], label = 'Classical Monte Carlo')\n",
    "ax.plot([f\"{2**q}\" for q in range(2,12)],payoff_quantum[1:], label = 'Quantum')\n",
    "ax.plot([f\"{2**q}\" for q in range(2,12)],[bs_price]*10, label = 'Black Scholes')\n",
    "ax.set_title(\"Option Price\")\n",
    "ax.set_xlabel(\"Number of Samples\")\n",
    "ax.set_ylabel(\"Payoff\")\n",
    "ax.legend()"
   ],
   "metadata": {
    "collapsed": false,
    "pycharm": {
     "name": "#%%\n"
    }
   }
  },
  {
   "cell_type": "code",
   "execution_count": null,
   "outputs": [],
   "source": [
    "runtime_quantum"
   ],
   "metadata": {
    "collapsed": false,
    "pycharm": {
     "name": "#%%\n"
    }
   }
  },
  {
   "cell_type": "code",
   "execution_count": 13,
   "metadata": {
    "pycharm": {
     "name": "#%%\n"
    }
   },
   "outputs": [
    {
     "data": {
      "text/plain": [
       "<matplotlib.legend.Legend at 0x7fe810dcbbb0>"
      ]
     },
     "execution_count": 13,
     "metadata": {},
     "output_type": "execute_result"
    },
    {
     "data": {
      "image/png": "[encoded data removed]",
      "text/plain": [
       "<Figure size 720x576 with 1 Axes>"
      ]
     },
     "metadata": {
      "needs_background": "light"
     },
     "output_type": "display_data"
    }
   ],
   "source": [
    "fig, ax = plt.subplots(1,1,figsize=(10,8))\n",
    "ax.plot([f\"{2**q}\" for q in range(2,12)],payoff_classical[1:], label = 'Classical Monte Carlo')\n",
    "ax.plot([f\"{2**q}\" for q in range(2,12)],payoff_quantum[1:], label = 'Quantum')\n",
    "ax.plot([f\"{2**q}\" for q in range(2,12)],[bs_price]*10, label = 'Black Scholes')\n",
    "ax.set_title(\"Option Price\")\n",
    "ax.set_xlabel(\"Number of Samples\")\n",
    "ax.set_ylabel(\"Payoff\")\n",
    "ax.legend()"
   ]
  },
  {
   "cell_type": "code",
   "execution_count": 17,
   "metadata": {
    "pycharm": {
     "name": "#%%\n"
    }
   },
   "outputs": [
    {
     "data": {
      "text/plain": [
       "[1.0245640277862549,\n",
       " 0.09283685684204102,\n",
       " 0.20656895637512207,\n",
       " 0.21802592277526855,\n",
       " 0.41384315490722656,\n",
       " 0.7279098033905029,\n",
       " 1.5571260452270508,\n",
       " 3.4965150356292725,\n",
       " 8.499259948730469,\n",
       " 23.080307006835938,\n",
       " 75.86083722114563]"
      ]
     },
     "execution_count": 17,
     "metadata": {},
     "output_type": "execute_result"
    }
   ],
   "source": [
    "runtime_quantum"
   ]
  },
  {
   "cell_type": "code",
   "execution_count": 10,
   "metadata": {
    "pycharm": {
     "name": "#%%\n"
    }
   },
   "outputs": [
    {
     "data": {
      "text/plain": [
       "<matplotlib.legend.Legend at 0x7fbca6f794c0>"
      ]
     },
     "execution_count": 10,
     "metadata": {},
     "output_type": "execute_result"
    },
    {
     "data": {
      "image/png": "[encoded data removed]",
      "text/plain": [
       "<Figure size 720x576 with 1 Axes>"
      ]
     },
     "metadata": {
      "needs_background": "light"
     },
     "output_type": "display_data"
    }
   ],
   "source": [
    "fig, ax = plt.subplots(1,1,figsize=(10,8))\n",
    "ax.plot([f\"{2**q}\" for q in range(2,12)],runtime_classical[1:], label = 'Classical Monte Carlo')\n",
    "ax.plot([f\"{2**q}\" for q in range(2,12)],runtime_quantum[1:], label = 'Quantum Simulator')\n",
    "ax.set_title(\"Runtime\")\n",
    "ax.set_xlabel(\"Number of Samples\")\n",
    "ax.set_ylabel(\"Time\")\n",
    "ax.legend()"
   ]
  },
  {
   "cell_type": "code",
   "execution_count": 11,
   "metadata": {
    "pycharm": {
     "name": "#%%\n"
    }
   },
   "outputs": [
    {
     "data": {
      "text/plain": [
       "<matplotlib.legend.Legend at 0x7fbc812be430>"
      ]
     },
     "execution_count": 11,
     "metadata": {},
     "output_type": "execute_result"
    },
    {
     "data": {
      "image/png": "[encoded data removed]",
      "text/plain": [
       "<Figure size 720x576 with 1 Axes>"
      ]
     },
     "metadata": {
      "needs_background": "light"
     },
     "output_type": "display_data"
    }
   ],
   "source": [
    "fig, ax = plt.subplots(1,1,figsize=(10,8))\n",
    "ax.plot([f\"{2**q}\" for q in range(2,12)],payoff_classical[1:], label = 'Classical Monte Carlo')\n",
    "ax.plot([f\"{2**q}\" for q in range(2,12)],payoff_quantum[1:], label = 'Quantum')\n",
    "ax.plot([f\"{2**q}\" for q in range(2,12)],[bs_price]*10, label = 'Black Scholes')\n",
    "ax.set_title(\"Option Price\")\n",
    "ax.set_xlabel(\"Number of Samples\")\n",
    "ax.set_ylabel(\"Payoff\")\n",
    "ax.legend()"
   ]
  },
  {
   "cell_type": "code",
   "execution_count": 12,
   "metadata": {
    "pycharm": {
     "name": "#%%\n"
    }
   },
   "outputs": [
    {
     "data": {
      "text/plain": [
       "<matplotlib.legend.Legend at 0x7fbc90a8e130>"
      ]
     },
     "execution_count": 12,
     "metadata": {},
     "output_type": "execute_result"
    },
    {
     "data": {
      "image/png": "[encoded data removed]",
      "text/plain": [
       "<Figure size 720x576 with 1 Axes>"
      ]
     },
     "metadata": {
      "needs_background": "light"
     },
     "output_type": "display_data"
    }
   ],
   "source": [
    "fig, ax = plt.subplots(1,1,figsize=(10,8))\n",
    "ax.plot([f\"{2**q}\" for q in range(2,12)],runtime_classical[1:], label = 'Classical Monte Carlo')\n",
    "ax.plot([f\"{2**q}\" for q in range(2,12)],runtime_quantum[1:], label = 'Quantum Simulator')\n",
    "ax.set_title(\"Runtime\")\n",
    "ax.set_xlabel(\"Number of Samples\")\n",
    "ax.set_ylabel(\"Time\")\n",
    "ax.legend()"
   ]
  },
  {
   "cell_type": "code",
   "execution_count": null,
   "metadata": {
    "pycharm": {
     "name": "#%%\n"
    }
   },
   "outputs": [],
   "source": [
    "# fig, ax = plt.subplots(1,1,figsize=(15,8))\n",
    "# # plot probability distribution\n",
    "# x = uncertainty_model.values\n",
    "# y = uncertainty_model.probabilities\n",
    "# ax.bar(x, y)\n",
    "# plt.xticks(x, size=15, rotation=90)\n",
    "# plt.yticks(size=15)\n",
    "# plt.grid()\n",
    "# plt.xlabel(\"Spot Price at Maturity $S_T$ (\\$)\", size=15)\n",
    "# plt.ylabel(\"Probability ($\\%$)\", size=15)\n",
    "# plt.show()\n"
   ]
  },
  {
   "cell_type": "code",
   "execution_count": null,
   "metadata": {
    "pycharm": {
     "name": "#%%\n"
    }
   },
   "outputs": [],
   "source": []
  },
  {
   "cell_type": "code",
   "execution_count": null,
   "metadata": {
    "pycharm": {
     "name": "#%%\n"
    }
   },
   "outputs": [],
   "source": []
  },
  {
   "cell_type": "code",
   "execution_count": null,
   "metadata": {
    "pycharm": {
     "name": "#%%\n"
    }
   },
   "outputs": [],
   "source": []
  },
  {
   "cell_type": "code",
   "execution_count": null,
   "metadata": {
    "pycharm": {
     "name": "#%%\n"
    }
   },
   "outputs": [],
   "source": []
  },
  {
   "cell_type": "code",
   "execution_count": null,
   "metadata": {
    "pycharm": {
     "name": "#%%\n"
    }
   },
   "outputs": [],
   "source": []
  },
  {
   "cell_type": "code",
   "execution_count": null,
   "metadata": {
    "pycharm": {
     "name": "#%%\n"
    }
   },
   "outputs": [],
   "source": []
  },
  {
   "cell_type": "code",
   "execution_count": null,
   "metadata": {
    "pycharm": {
     "name": "#%%\n"
    }
   },
   "outputs": [],
   "source": []
  },
  {
   "cell_type": "code",
   "execution_count": null,
   "metadata": {
    "pycharm": {
     "name": "#%%\n"
    }
   },
   "outputs": [],
   "source": [
    "## Real QC running"
   ]
  },
  {
   "cell_type": "code",
   "execution_count": null,
   "metadata": {
    "pycharm": {
     "name": "#%%\n"
    }
   },
   "outputs": [],
   "source": [
    "IBMQ.save_account(\"2377ac879cf1f5b0d4a0660ee22f22f8cdf2cb39fe123c8d67b88cf5a64257909d14e84c1a43ee83c212d805a3987f7ee3da2da42fff0e35bf6de15220d1e41b\")\n",
    "IBMQ.load_account()"
   ]
  },
  {
   "cell_type": "code",
   "execution_count": null,
   "metadata": {
    "pycharm": {
     "name": "#%%\n"
    }
   },
   "outputs": [],
   "source": [
    "provider = IBMQ.get_provider('ibm-q')\n",
    "qcomp = provider.get_backend('ibm_nairobi')"
   ]
  },
  {
   "cell_type": "code",
   "execution_count": null,
   "metadata": {
    "pycharm": {
     "name": "#%%\n"
    }
   },
   "outputs": [],
   "source": [
    "# number of qubits to represent the uncertainty\n",
    "num_uncertainty_qubits = 2\n",
    "\n",
    "\n",
    "\n",
    "# resulting parameters for log-normal distribution\n",
    "mu = (r - 0.5 * vol**2) * T + np.log(S)\n",
    "sigma = vol * np.sqrt(T)\n",
    "mean = np.exp(mu + sigma**2 / 2)\n",
    "variance = (np.exp(sigma**2) - 1) * np.exp(2 * mu + sigma**2)\n",
    "stddev = np.sqrt(variance)\n",
    "\n",
    "# lowest and highest value considered for the spot price; in between, an equidistant discretization is considered.\n",
    "low = np.maximum(0, mean - 3 * stddev)\n",
    "high = mean + 3 * stddev\n",
    "\n",
    "# construct A operator for QAE for the payoff function by\n",
    "# composing the uncertainty model and the objective\n",
    "uncertainty_model = LogNormalDistribution(\n",
    "    num_uncertainty_qubits, mu=mu, sigma=sigma**2, bounds=(low, high)\n",
    ")\n",
    "\n",
    "# set the approximation scaling for the payoff function\n",
    "c_approx = 0.25\n",
    "\n",
    "# setup piecewise linear objective fcuntion\n",
    "breakpoints = [low, strike_price]\n",
    "slopes = [0, 1]\n",
    "offsets = [0, 0]\n",
    "f_min = 0\n",
    "f_max = high - strike_price\n",
    "european_call_objective = LinearAmplitudeFunction(\n",
    "    num_uncertainty_qubits,\n",
    "    slopes,\n",
    "    offsets,\n",
    "    domain=(low, high),\n",
    "    image=(f_min, f_max),\n",
    "    breakpoints=breakpoints,\n",
    "    rescaling_factor=c_approx,\n",
    ")\n",
    "\n",
    "\n",
    "# construct A operator for QAE for the payoff function by\n",
    "# composing the uncertainty model and the objective\n",
    "num_qubits = european_call_objective.num_qubits\n",
    "european_call = QuantumCircuit(num_qubits)\n",
    "european_call.append(uncertainty_model, range(num_uncertainty_qubits))\n",
    "european_call.append(european_call_objective, range(num_qubits))\n",
    "\n",
    "# draw the circuit\n",
    "european_call.draw()\n",
    "\n",
    "from qiskit_finance.applications.estimation import EuropeanCallPricing\n",
    "\n",
    "european_call_pricing = EuropeanCallPricing(\n",
    "    num_state_qubits=num_uncertainty_qubits,\n",
    "    strike_price=strike_price,\n",
    "    rescaling_factor=c_approx,\n",
    "    bounds=(low, high),\n",
    "    uncertainty_model=uncertainty_model,\n",
    ")\n",
    "\n",
    "epsilon = 0.01\n",
    "alpha = 0.05"
   ]
  },
  {
   "cell_type": "code",
   "execution_count": null,
   "metadata": {
    "pycharm": {
     "name": "#%%\n"
    }
   },
   "outputs": [],
   "source": []
  },
  {
   "cell_type": "code",
   "execution_count": null,
   "metadata": {
    "pycharm": {
     "name": "#%%\n"
    }
   },
   "outputs": [],
   "source": [
    "problem_qc = european_call_pricing.to_estimation_problem()\n",
    "# construct amplitude estimation\n",
    "ae_qc = IterativeAmplitudeEstimation(epsilon, alpha=alpha, quantum_instance=qcomp)\n",
    "\n",
    "result_qc = ae_qc.estimate(problem_qc)"
   ]
  },
  {
   "cell_type": "code",
   "execution_count": null,
   "metadata": {
    "pycharm": {
     "name": "#%%\n"
    }
   },
   "outputs": [],
   "source": [
    "\n",
    "conf_int = np.array(result_qc.confidence_interval_processed)\n",
    "# print(\"Exact value:        \\t%.4f\" % exact_value)\n",
    "\n",
    "print(\"Estimated value:    \\t%.4f\" % (european_call_pricing.interpret(result_qc)))\n",
    "print(\"Confidence interval:\\t[%.4f, %.4f]\" % tuple(conf_int))\n",
    "np.abs(bs_price - 36.8) / bs_price"
   ]
  },
  {
   "cell_type": "code",
   "execution_count": null,
   "metadata": {
    "pycharm": {
     "name": "#%%\n"
    }
   },
   "outputs": [],
   "source": []
  },
  {
   "cell_type": "code",
   "execution_count": null,
   "metadata": {
    "pycharm": {
     "name": "#%%\n"
    }
   },
   "outputs": [],
   "source": [
    "# number of qubits to represent the uncertainty\n",
    "num_uncertainty_qubits = 3\n",
    "\n",
    "# resulting parameters for log-normal distribution\n",
    "mu = (r - 0.5 * vol**2) * T + np.log(S)\n",
    "sigma = vol * np.sqrt(T)\n",
    "mean = np.exp(mu + sigma**2 / 2)\n",
    "variance = (np.exp(sigma**2) - 1) * np.exp(2 * mu + sigma**2)\n",
    "stddev = np.sqrt(variance)\n",
    "\n",
    "# lowest and highest value considered for the spot price; in between, an equidistant discretization is considered.\n",
    "low = np.maximum(0, mean - 3 * stddev)\n",
    "high = mean + 3 * stddev\n",
    "\n",
    "# construct A operator for QAE for the payoff function by\n",
    "# composing the uncertainty model and the objective\n",
    "uncertainty_model = LogNormalDistribution(\n",
    "    num_uncertainty_qubits, mu=mu, sigma=sigma**2, bounds=(low, high)\n",
    ")\n",
    "\n",
    "# set the approximation scaling for the payoff function\n",
    "c_approx = 0.25\n",
    "\n",
    "# setup piecewise linear objective fcuntion\n",
    "breakpoints = [low, strike_price]\n",
    "slopes = [0, 1]\n",
    "offsets = [0, 0]\n",
    "f_min = 0\n",
    "f_max = high - strike_price\n",
    "european_call_objective = LinearAmplitudeFunction(\n",
    "    num_uncertainty_qubits,\n",
    "    slopes,\n",
    "    offsets,\n",
    "    domain=(low, high),\n",
    "    image=(f_min, f_max),\n",
    "    breakpoints=breakpoints,\n",
    "    rescaling_factor=c_approx,\n",
    ")\n",
    "\n",
    "\n",
    "# construct A operator for QAE for the payoff function by\n",
    "# composing the uncertainty model and the objective\n",
    "num_qubits = european_call_objective.num_qubits\n",
    "european_call = QuantumCircuit(num_qubits)\n",
    "european_call.append(uncertainty_model, range(num_uncertainty_qubits))\n",
    "european_call.append(european_call_objective, range(num_qubits))\n",
    "\n",
    "# draw the circuit\n",
    "european_call.draw()\n",
    "\n",
    "from qiskit_finance.applications.estimation import EuropeanCallPricing\n",
    "\n",
    "european_call_pricing = EuropeanCallPricing(\n",
    "    num_state_qubits=num_uncertainty_qubits,\n",
    "    strike_price=strike_price,\n",
    "    rescaling_factor=c_approx,\n",
    "    bounds=(low, high),\n",
    "    uncertainty_model=uncertainty_model,\n",
    ")\n",
    "\n",
    "epsilon = 0.01\n",
    "alpha = 0.05"
   ]
  },
  {
   "cell_type": "code",
   "execution_count": null,
   "metadata": {
    "pycharm": {
     "name": "#%%\n"
    }
   },
   "outputs": [],
   "source": [
    "problem_qc_3q = european_call_pricing.to_estimation_problem()\n",
    "# construct amplitude estimation\n",
    "ae_qc_3q = IterativeAmplitudeEstimation(epsilon, alpha=alpha, quantum_instance=qcomp2)\n",
    "\n",
    "result_qc_3q = ae_qc.estimate(problem_qc_3q)"
   ]
  },
  {
   "cell_type": "code",
   "execution_count": null,
   "metadata": {
    "pycharm": {
     "name": "#%%\n"
    }
   },
   "outputs": [],
   "source": [
    "\n",
    "conf_int_3q = np.array(result_qc_3q.confidence_interval_processed)\n",
    "# print(\"Exact value:        \\t%.4f\" % exact_value)\n",
    "print(\"Estimated value:    \\t%.4f\" % (european_call_pricing.interpret(result_qc_3q)))\n",
    "print(\"Confidence interval:\\t[%.4f, %.4f]\" % tuple(conf_int_3q))\n",
    "np.abs(bs_price - 54.8) / bs_price"
   ]
  },
  {
   "cell_type": "code",
   "execution_count": null,
   "metadata": {
    "pycharm": {
     "name": "#%%\n"
    }
   },
   "outputs": [],
   "source": []
  },
  {
   "cell_type": "code",
   "execution_count": null,
   "metadata": {
    "pycharm": {
     "name": "#%%\n"
    }
   },
   "outputs": [],
   "source": [
    "fig, ax = plt.subplots(1,1,figsize=(10,8))\n",
    "ax.plot([f\"{2**q}\" for q in range(2,12)],mape_classical[1:], label = 'Classical Monte Carlo')\n",
    "ax.plot([f\"{2**q}\" for q in range(2,12)],mape_quantum[1:], label = 'Quantum Simulator')\n",
    "ax.plot([f\"{2**q}\" for q in range(2,4)],[0.78, 1.65], label = '7-Qubit IBM Quantum Computer')\n",
    "ax.set_title(\"Estimation Error\")\n",
    "ax.set_xlabel(\"Number of Samples\")\n",
    "ax.set_ylabel(\"MAPE\")\n",
    "ax.legend()"
   ]
  },
  {
   "cell_type": "code",
   "execution_count": null,
   "metadata": {
    "pycharm": {
     "name": "#%%\n"
    }
   },
   "outputs": [],
   "source": [
    "fig, ax = plt.subplots(1,1,figsize=(10,8))\n",
    "ax.plot([f\"{2**q}\" for q in range(2,12)],payoff_classical[1:], label = 'Classical Monte Carlo')\n",
    "ax.plot([f\"{2**q}\" for q in range(2,12)],payoff_quantum[1:], label = 'Quantum Simulator')\n",
    "ax.plot([f\"{2**q}\" for q in range(2,12)],[bs_price]*10, label = 'Black Scholes')\n",
    "ax.plot([f\"{2**q}\" for q in range(2,4)],[36.8, 54.8], label = '7-Qubit IBM Quantum Computer')\n",
    "ax.set_title(\"Option Price\")\n",
    "ax.set_xlabel(\"Number of Samples\")\n",
    "ax.set_ylabel(\"Payoff\")\n",
    "ax.legend()"
   ]
  },
  {
   "cell_type": "code",
   "execution_count": null,
   "metadata": {
    "pycharm": {
     "name": "#%%\n"
    }
   },
   "outputs": [],
   "source": [
    "fig, ax = plt.subplots(1,1,figsize=(10,8))\n",
    "ax.plot([f\"{2**q}\" for q in range(2,12)],runtime_classical[1:], label = 'Classical Monte Carlo')\n",
    "ax.plot([f\"{2**q}\" for q in range(2,12)],runtime_quantum[1:], label = 'Quantum Simulator')\n",
    "ax.plot([f\"{2**q}\" for q in range(2,4)],[3.8, 5.6], label = '7-Qubit IBM Quantum Computer')\n",
    "ax.set_title(\"Runtime\")\n",
    "ax.set_xlabel(\"Number of Samples\")\n",
    "ax.set_ylabel(\"Time\")\n",
    "ax.legend()"
   ]
  },
  {
   "cell_type": "code",
   "execution_count": null,
   "metadata": {
    "pycharm": {
     "name": "#%%\n"
    }
   },
   "outputs": [],
   "source": []
  },
  {
   "cell_type": "code",
   "execution_count": null,
   "metadata": {
    "pycharm": {
     "name": "#%%\n"
    }
   },
   "outputs": [],
   "source": []
  },
  {
   "cell_type": "code",
   "execution_count": null,
   "metadata": {
    "pycharm": {
     "name": "#%%\n"
    }
   },
   "outputs": [],
   "source": [
    "\n",
    "\n",
    "# exact_value = np.dot(uncertainty_model.probabilities, y)\n",
    "qi = QuantumInstance(Aer.get_backend(\"aer_simulator\"), shots=10000)\n",
    "problem = european_call_pricing.to_estimation_problem()\n",
    "# construct amplitude estimation\n",
    "ae = IterativeAmplitudeEstimation(epsilon, alpha=alpha, quantum_instance=qi)\n",
    "result = ae.estimate(problem)\n",
    "\n",
    "conf_int = np.array(result.confidence_interval_processed)\n",
    "# print(\"Exact value:        \\t%.4f\" % exact_value)\n",
    "print(\"Estimated value:    \\t%.4f\" % (european_call_pricing.interpret(result)))\n",
    "print(\"Confidence interval:\\t[%.4f, %.4f]\" % tuple(conf_int))"
   ]
  },
  {
   "cell_type": "code",
   "execution_count": null,
   "metadata": {
    "pycharm": {
     "name": "#%%\n"
    }
   },
   "outputs": [],
   "source": [
    "MAPE_qc_simulator = np.abs(european_call_pricing.interpret(result)-bs_price)/bs_price\n",
    "print(f\"classical computer MC MAPE is {round(MAPE_qc_simulator*100,4)}%\")"
   ]
  },
  {
   "cell_type": "code",
   "execution_count": null,
   "metadata": {
    "pycharm": {
     "name": "#%%\n"
    }
   },
   "outputs": [],
   "source": [
    "# plot probability distribution\n",
    "x = uncertainty_model.values\n",
    "y = uncertainty_model.probabilities\n",
    "plt.bar(x, y, width=4)\n",
    "plt.xticks(x, size=15, rotation=90)\n",
    "plt.yticks(size=15)\n",
    "plt.grid()\n",
    "plt.xlabel(\"Spot Price at Maturity $S_T$ (\\$)\", size=15)\n",
    "plt.ylabel(\"Probability ($\\%$)\", size=15)\n",
    "plt.show()\n"
   ]
  },
  {
   "cell_type": "code",
   "execution_count": null,
   "metadata": {
    "pycharm": {
     "name": "#%%\n"
    }
   },
   "outputs": [],
   "source": [
    "x"
   ]
  },
  {
   "cell_type": "code",
   "execution_count": null,
   "metadata": {
    "pycharm": {
     "name": "#%%\n"
    }
   },
   "outputs": [],
   "source": [
    "# plot exact payoff function (evaluated on the grid of the uncertainty model)\n",
    "x = uncertainty_model.values\n",
    "y = np.maximum(0, x - strike_price)\n",
    "plt.plot(x, y, \"ro-\")\n",
    "plt.grid()\n",
    "plt.title(\"Payoff Function\", size=15)\n",
    "plt.xlabel(\"Spot Price\", size=15)\n",
    "plt.ylabel(\"Payoff\", size=15)\n",
    "plt.xticks(x, size=15, rotation=90)\n",
    "plt.yticks(size=15)\n",
    "plt.show()"
   ]
  },
  {
   "cell_type": "code",
   "execution_count": null,
   "metadata": {
    "pycharm": {
     "name": "#%%\n"
    }
   },
   "outputs": [],
   "source": []
  },
  {
   "cell_type": "code",
   "execution_count": null,
   "metadata": {
    "pycharm": {
     "name": "#%%\n"
    }
   },
   "outputs": [],
   "source": []
  },
  {
   "cell_type": "code",
   "execution_count": null,
   "metadata": {
    "pycharm": {
     "name": "#%%\n"
    }
   },
   "outputs": [],
   "source": []
  },
  {
   "cell_type": "code",
   "execution_count": null,
   "metadata": {
    "pycharm": {
     "name": "#%%\n"
    }
   },
   "outputs": [],
   "source": []
  },
  {
   "cell_type": "code",
   "execution_count": null,
   "metadata": {
    "pycharm": {
     "name": "#%%\n"
    }
   },
   "outputs": [],
   "source": []
  },
  {
   "cell_type": "code",
   "execution_count": null,
   "metadata": {
    "pycharm": {
     "name": "#%%\n"
    }
   },
   "outputs": [],
   "source": [
    "IBMQ.save_account(\"2377ac879cf1f5b0d4a0660ee22f22f8cdf2cb39fe123c8d67b88cf5a64257909d14e84c1a43ee83c212d805a3987f7ee3da2da42fff0e35bf6de15220d1e41b\")\n",
    "IBMQ.load_account()"
   ]
  },
  {
   "cell_type": "code",
   "execution_count": null,
   "metadata": {
    "pycharm": {
     "name": "#%%\n"
    }
   },
   "outputs": [],
   "source": [
    "provider = IBMQ.get_provider('ibm-q')\n",
    "qcomp = provider.get_backend('ibm_nairobi')"
   ]
  },
  {
   "cell_type": "code",
   "execution_count": null,
   "metadata": {
    "pycharm": {
     "name": "#%%\n"
    }
   },
   "outputs": [],
   "source": [
    "provider = IBMQ.get_provider('ibm-q')\n",
    "qcomp = provider.get_backend('ibm_nairobi')"
   ]
  },
  {
   "cell_type": "code",
   "execution_count": null,
   "metadata": {
    "pycharm": {
     "name": "#%%\n"
    }
   },
   "outputs": [],
   "source": [
    "problem_qc = european_call_pricing.to_estimation_problem()\n",
    "# construct amplitude estimation\n",
    "ae_qc = IterativeAmplitudeEstimation(epsilon, alpha=alpha, quantum_instance=qcomp)\n",
    "\n",
    "result_qc = ae_qc.estimate(problem_qc)"
   ]
  },
  {
   "cell_type": "code",
   "execution_count": null,
   "metadata": {
    "pycharm": {
     "name": "#%%\n"
    }
   },
   "outputs": [],
   "source": [
    "\n",
    "conf_int = np.array(result_qc.confidence_interval_processed)\n",
    "# print(\"Exact value:        \\t%.4f\" % exact_value)\n",
    "print(\"Estimated value:    \\t%.4f\" % (european_call_pricing.interpret(result_qc)))\n",
    "print(\"Confidence interval:\\t[%.4f, %.4f]\" % tuple(conf_int))"
   ]
  },
  {
   "cell_type": "code",
   "execution_count": null,
   "metadata": {
    "pycharm": {
     "name": "#%%\n"
    }
   },
   "outputs": [],
   "source": []
  },
  {
   "cell_type": "code",
   "execution_count": null,
   "metadata": {
    "pycharm": {
     "name": "#%%\n"
    }
   },
   "outputs": [],
   "source": []
  },
  {
   "cell_type": "code",
   "execution_count": null,
   "metadata": {
    "pycharm": {
     "name": "#%%\n"
    }
   },
   "outputs": [],
   "source": []
  },
  {
   "cell_type": "code",
   "execution_count": null,
   "metadata": {
    "pycharm": {
     "name": "#%%\n"
    }
   },
   "outputs": [],
   "source": [
    "# number of qubits to represent the uncertainty\n",
    "num_uncertainty_qubits = 2\n",
    "\n",
    "\n",
    "\n",
    "# resulting parameters for log-normal distribution\n",
    "mu = (r - 0.5 * vol**2) * T + np.log(S)\n",
    "sigma = vol * np.sqrt(T)\n",
    "mean = np.exp(mu + sigma**2 / 2)\n",
    "variance = (np.exp(sigma**2) - 1) * np.exp(2 * mu + sigma**2)\n",
    "stddev = np.sqrt(variance)\n",
    "\n",
    "# lowest and highest value considered for the spot price; in between, an equidistant discretization is considered.\n",
    "low = np.maximum(0, mean - 3 * stddev)\n",
    "high = mean + 3 * stddev\n",
    "\n",
    "# construct A operator for QAE for the payoff function by\n",
    "# composing the uncertainty model and the objective\n",
    "uncertainty_model = LogNormalDistribution(\n",
    "    num_uncertainty_qubits, mu=mu, sigma=sigma**2, bounds=(low, high)\n",
    ")\n",
    "\n",
    "# set the approximation scaling for the payoff function\n",
    "c_approx = 0.25\n",
    "\n",
    "# setup piecewise linear objective fcuntion\n",
    "breakpoints = [low, strike_price]\n",
    "slopes = [0, 1]\n",
    "offsets = [0, 0]\n",
    "f_min = 0\n",
    "f_max = high - strike_price\n",
    "european_call_objective = LinearAmplitudeFunction(\n",
    "    num_uncertainty_qubits,\n",
    "    slopes,\n",
    "    offsets,\n",
    "    domain=(low, high),\n",
    "    image=(f_min, f_max),\n",
    "    breakpoints=breakpoints,\n",
    "    rescaling_factor=c_approx,\n",
    ")\n",
    "\n",
    "\n",
    "# construct A operator for QAE for the payoff function by\n",
    "# composing the uncertainty model and the objective\n",
    "num_qubits = european_call_objective.num_qubits\n",
    "european_call = QuantumCircuit(num_qubits)\n",
    "european_call.append(uncertainty_model, range(num_uncertainty_qubits))\n",
    "european_call.append(european_call_objective, range(num_qubits))\n",
    "\n",
    "# draw the circuit\n",
    "european_call.draw()\n",
    "\n",
    "from qiskit_finance.applications.estimation import EuropeanCallPricing\n",
    "\n",
    "european_call_pricing = EuropeanCallPricing(\n",
    "    num_state_qubits=num_uncertainty_qubits,\n",
    "    strike_price=strike_price,\n",
    "    rescaling_factor=c_approx,\n",
    "    bounds=(low, high),\n",
    "    uncertainty_model=uncertainty_model,\n",
    ")\n",
    "\n",
    "epsilon = 0.01\n",
    "alpha = 0.05\n",
    "\n",
    "# exact_value = np.dot(uncertainty_model.probabilities, y)\n",
    "qi = QuantumInstance(Aer.get_backend(\"aer_simulator\"), shots=10000)\n",
    "problem = european_call_pricing.to_estimation_problem()\n",
    "# construct amplitude estimation\n",
    "ae = IterativeAmplitudeEstimation(epsilon, alpha=alpha, quantum_instance=qi)\n",
    "result = ae.estimate(problem)\n",
    "\n",
    "conf_int = np.array(result.confidence_interval_processed)\n",
    "# print(\"Exact value:        \\t%.4f\" % exact_value)\n",
    "print(\"Estimated value:    \\t%.4f\" % (european_call_pricing.interpret(result)))\n",
    "print(\"Confidence interval:\\t[%.4f, %.4f]\" % tuple(conf_int))"
   ]
  },
  {
   "cell_type": "code",
   "execution_count": null,
   "metadata": {
    "pycharm": {
     "name": "#%%\n"
    }
   },
   "outputs": [],
   "source": [
    "MAPE_qc_simulator = np.abs(european_call_pricing.interpret(result)-bs_price)/bs_price\n",
    "print(f\"classical computer MC MAPE is {round(MAPE_qc_simulator*100,4)}%\")"
   ]
  },
  {
   "cell_type": "code",
   "execution_count": null,
   "metadata": {
    "pycharm": {
     "name": "#%%\n"
    }
   },
   "outputs": [],
   "source": [
    "# plot probability distribution\n",
    "x = uncertainty_model.values\n",
    "y = uncertainty_model.probabilities\n",
    "plt.bar(x, y, width=4)\n",
    "plt.xticks(x, size=15, rotation=90)\n",
    "plt.yticks(size=15)\n",
    "plt.grid()\n",
    "plt.xlabel(\"Spot Price at Maturity $S_T$ (\\$)\", size=15)\n",
    "plt.ylabel(\"Probability ($\\%$)\", size=15)\n",
    "plt.show()\n"
   ]
  },
  {
   "cell_type": "code",
   "execution_count": null,
   "metadata": {
    "pycharm": {
     "name": "#%%\n"
    }
   },
   "outputs": [],
   "source": [
    "x"
   ]
  },
  {
   "cell_type": "code",
   "execution_count": null,
   "metadata": {
    "pycharm": {
     "name": "#%%\n"
    }
   },
   "outputs": [],
   "source": [
    "# plot exact payoff function (evaluated on the grid of the uncertainty model)\n",
    "x = uncertainty_model.values\n",
    "y = np.maximum(0, x - strike_price)\n",
    "plt.plot(x, y, \"ro-\")\n",
    "plt.grid()\n",
    "plt.title(\"Payoff Function\", size=15)\n",
    "plt.xlabel(\"Spot Price\", size=15)\n",
    "plt.ylabel(\"Payoff\", size=15)\n",
    "plt.xticks(x, size=15, rotation=90)\n",
    "plt.yticks(size=15)\n",
    "plt.show()"
   ]
  },
  {
   "cell_type": "code",
   "execution_count": null,
   "metadata": {
    "pycharm": {
     "name": "#%%\n"
    }
   },
   "outputs": [],
   "source": []
  },
  {
   "cell_type": "code",
   "execution_count": null,
   "metadata": {
    "pycharm": {
     "name": "#%%\n"
    }
   },
   "outputs": [],
   "source": []
  },
  {
   "cell_type": "code",
   "execution_count": null,
   "metadata": {
    "pycharm": {
     "name": "#%%\n"
    }
   },
   "outputs": [],
   "source": []
  },
  {
   "cell_type": "code",
   "execution_count": null,
   "metadata": {
    "pycharm": {
     "name": "#%%\n"
    }
   },
   "outputs": [],
   "source": []
  },
  {
   "cell_type": "code",
   "execution_count": null,
   "metadata": {
    "pycharm": {
     "name": "#%%\n"
    }
   },
   "outputs": [],
   "source": []
  },
  {
   "cell_type": "code",
   "execution_count": null,
   "metadata": {
    "pycharm": {
     "name": "#%%\n"
    }
   },
   "outputs": [],
   "source": [
    "IBMQ.save_account(\"2377ac879cf1f5b0d4a0660ee22f22f8cdf2cb39fe123c8d67b88cf5a64257909d14e84c1a43ee83c212d805a3987f7ee3da2da42fff0e35bf6de15220d1e41b\")\n",
    "IBMQ.load_account()"
   ]
  },
  {
   "cell_type": "code",
   "execution_count": null,
   "metadata": {
    "pycharm": {
     "name": "#%%\n"
    }
   },
   "outputs": [],
   "source": [
    "provider = IBMQ.get_provider('ibm-q')\n",
    "qcomp = provider.get_backend('ibmq_belem')"
   ]
  },
  {
   "cell_type": "code",
   "execution_count": null,
   "metadata": {
    "pycharm": {
     "name": "#%%\n"
    }
   },
   "outputs": [],
   "source": [
    "problem_qc = european_call_pricing.to_estimation_problem()\n",
    "# construct amplitude estimation\n",
    "ae_qc = IterativeAmplitudeEstimation(epsilon, alpha=alpha, quantum_instance=qcomp)\n",
    "\n",
    "result_qc = ae_qc.estimate(problem_qc)"
   ]
  },
  {
   "cell_type": "code",
   "execution_count": null,
   "metadata": {
    "pycharm": {
     "name": "#%%\n"
    }
   },
   "outputs": [],
   "source": [
    "\n",
    "conf_int = np.array(result_qc.confidence_interval_processed)\n",
    "# print(\"Exact value:        \\t%.4f\" % exact_value)\n",
    "print(\"Estimated value:    \\t%.4f\" % (european_call_pricing.interpret(result_qc)))\n",
    "print(\"Confidence interval:\\t[%.4f, %.4f]\" % tuple(conf_int))"
   ]
  },
  {
   "cell_type": "code",
   "execution_count": null,
   "metadata": {
    "pycharm": {
     "name": "#%%\n"
    }
   },
   "outputs": [],
   "source": []
  },
  {
   "cell_type": "code",
   "execution_count": null,
   "metadata": {
    "pycharm": {
     "name": "#%%\n"
    }
   },
   "outputs": [],
   "source": []
  },
  {
   "cell_type": "code",
   "execution_count": null,
   "metadata": {
    "pycharm": {
     "name": "#%%\n"
    }
   },
   "outputs": [],
   "source": []
  },
  {
   "cell_type": "code",
   "execution_count": null,
   "metadata": {
    "pycharm": {
     "name": "#%%\n"
    }
   },
   "outputs": [],
   "source": []
  },
  {
   "cell_type": "code",
   "execution_count": null,
   "metadata": {
    "pycharm": {
     "name": "#%%\n"
    }
   },
   "outputs": [],
   "source": [
    "MAPE_qc_simulator = np.abs(european_call_pricing.interpret(result)-bs_price)/bs_price\n",
    "print(f\"classical computer MC MAPE is {round(MAPE_qc_simulator*100,4)}%\")"
   ]
  },
  {
   "cell_type": "code",
   "execution_count": null,
   "metadata": {
    "pycharm": {
     "name": "#%%\n"
    }
   },
   "outputs": [],
   "source": [
    "# plot probability distribution\n",
    "x = uncertainty_model.values\n",
    "y = uncertainty_model.probabilities\n",
    "plt.bar(x, y, width=4)\n",
    "plt.xticks(x, size=15, rotation=90)\n",
    "plt.yticks(size=15)\n",
    "plt.grid()\n",
    "plt.xlabel(\"Spot Price at Maturity $S_T$ (\\$)\", size=15)\n",
    "plt.ylabel(\"Probability ($\\%$)\", size=15)\n",
    "plt.show()\n"
   ]
  },
  {
   "cell_type": "code",
   "execution_count": null,
   "metadata": {
    "pycharm": {
     "name": "#%%\n"
    }
   },
   "outputs": [],
   "source": [
    "x"
   ]
  },
  {
   "cell_type": "code",
   "execution_count": null,
   "metadata": {
    "pycharm": {
     "name": "#%%\n"
    }
   },
   "outputs": [],
   "source": [
    "# plot exact payoff function (evaluated on the grid of the uncertainty model)\n",
    "x = uncertainty_model.values\n",
    "y = np.maximum(0, x - strike_price)\n",
    "plt.plot(x, y, \"ro-\")\n",
    "plt.grid()\n",
    "plt.title(\"Payoff Function\", size=15)\n",
    "plt.xlabel(\"Spot Price\", size=15)\n",
    "plt.ylabel(\"Payoff\", size=15)\n",
    "plt.xticks(x, size=15, rotation=90)\n",
    "plt.yticks(size=15)\n",
    "plt.show()"
   ]
  },
  {
   "cell_type": "code",
   "execution_count": null,
   "metadata": {
    "pycharm": {
     "name": "#%%\n"
    }
   },
   "outputs": [],
   "source": []
  },
  {
   "cell_type": "code",
   "execution_count": null,
   "metadata": {
    "pycharm": {
     "name": "#%%\n"
    }
   },
   "outputs": [],
   "source": []
  },
  {
   "cell_type": "code",
   "execution_count": null,
   "metadata": {
    "pycharm": {
     "name": "#%%\n"
    }
   },
   "outputs": [],
   "source": []
  },
  {
   "cell_type": "code",
   "execution_count": null,
   "metadata": {
    "pycharm": {
     "name": "#%%\n"
    }
   },
   "outputs": [],
   "source": []
  },
  {
   "cell_type": "code",
   "execution_count": null,
   "metadata": {
    "pycharm": {
     "name": "#%%\n"
    }
   },
   "outputs": [],
   "source": []
  },
  {
   "cell_type": "code",
   "execution_count": null,
   "metadata": {
    "pycharm": {
     "name": "#%%\n"
    }
   },
   "outputs": [],
   "source": [
    "IBMQ.save_account(\"2377ac879cf1f5b0d4a0660ee22f22f8cdf2cb39fe123c8d67b88cf5a64257909d14e84c1a43ee83c212d805a3987f7ee3da2da42fff0e35bf6de15220d1e41b\")\n",
    "IBMQ.load_account()"
   ]
  },
  {
   "cell_type": "code",
   "execution_count": null,
   "metadata": {
    "pycharm": {
     "name": "#%%\n"
    }
   },
   "outputs": [],
   "source": [
    "provider = IBMQ.get_provider('ibm-q')\n",
    "qcomp = provider.get_backend('ibmq_belem')"
   ]
  },
  {
   "cell_type": "code",
   "execution_count": null,
   "metadata": {
    "pycharm": {
     "name": "#%%\n"
    }
   },
   "outputs": [],
   "source": [
    "problem_qc = european_call_pricing.to_estimation_problem()\n",
    "# construct amplitude estimation\n",
    "ae_qc = IterativeAmplitudeEstimation(epsilon, alpha=alpha, quantum_instance=qcomp)\n",
    "\n",
    "result_qc = ae_qc.estimate(problem_qc)"
   ]
  },
  {
   "cell_type": "code",
   "execution_count": null,
   "metadata": {
    "pycharm": {
     "name": "#%%\n"
    }
   },
   "outputs": [],
   "source": [
    "\n",
    "conf_int = np.array(result_qc.confidence_interval_processed)\n",
    "# print(\"Exact value:        \\t%.4f\" % exact_value)\n",
    "print(\"Estimated value:    \\t%.4f\" % (european_call_pricing.interpret(result_qc)))\n",
    "print(\"Confidence interval:\\t[%.4f, %.4f]\" % tuple(conf_int))"
   ]
  },
  {
   "cell_type": "code",
   "execution_count": null,
   "metadata": {
    "pycharm": {
     "name": "#%%\n"
    }
   },
   "outputs": [],
   "source": []
  },
  {
   "cell_type": "code",
   "execution_count": null,
   "metadata": {
    "pycharm": {
     "name": "#%%\n"
    }
   },
   "outputs": [],
   "source": []
  },
  {
   "cell_type": "code",
   "execution_count": null,
   "metadata": {
    "pycharm": {
     "name": "#%%\n"
    }
   },
   "outputs": [],
   "source": []
  },
  {
   "cell_type": "code",
   "execution_count": null,
   "metadata": {
    "pycharm": {
     "name": "#%%\n"
    }
   },
   "outputs": [],
   "source": []
  },
  {
   "cell_type": "code",
   "execution_count": null,
   "metadata": {
    "pycharm": {
     "name": "#%%\n"
    }
   },
   "outputs": [],
   "source": [
    "# number of qubits to represent the uncertainty\n",
    "time_start = time.time()\n",
    "num_uncertainty_qubits = 2\n",
    "\n",
    "\n",
    "\n",
    "# resulting parameters for log-normal distribution\n",
    "mu = (r - 0.5 * vol**2) * T + np.log(S)\n",
    "sigma = vol * np.sqrt(T)\n",
    "mean = np.exp(mu + sigma**2 / 2)\n",
    "variance = (np.exp(sigma**2) - 1) * np.exp(2 * mu + sigma**2)\n",
    "stddev = np.sqrt(variance)\n",
    "\n",
    "# lowest and highest value considered for the spot price; in between, an equidistant discretization is considered.\n",
    "low = np.maximum(0, mean - 3 * stddev)\n",
    "high = mean + 3 * stddev\n",
    "\n",
    "# construct A operator for QAE for the payoff function by\n",
    "# composing the uncertainty model and the objective\n",
    "uncertainty_model = LogNormalDistribution(\n",
    "    num_uncertainty_qubits, mu=mu, sigma=sigma**2, bounds=(low, high)\n",
    ")\n",
    "\n",
    "# set the approximation scaling for the payoff function\n",
    "c_approx = 0.25\n",
    "\n",
    "# setup piecewise linear objective fcuntion\n",
    "breakpoints = [low, strike_price]\n",
    "slopes = [0, 1]\n",
    "offsets = [0, 0]\n",
    "f_min = 0\n",
    "f_max = high - strike_price\n",
    "european_call_objective = LinearAmplitudeFunction(\n",
    "    num_uncertainty_qubits,\n",
    "    slopes,\n",
    "    offsets,\n",
    "    domain=(low, high),\n",
    "    image=(f_min, f_max),\n",
    "    breakpoints=breakpoints,\n",
    "    rescaling_factor=c_approx,\n",
    ")\n",
    "\n",
    "\n",
    "# construct A operator for QAE for the payoff function by\n",
    "# composing the uncertainty model and the objective\n",
    "num_qubits = european_call_objective.num_qubits\n",
    "european_call = QuantumCircuit(num_qubits)\n",
    "european_call.append(uncertainty_model, range(num_uncertainty_qubits))\n",
    "european_call.append(european_call_objective, range(num_qubits))\n",
    "\n",
    "# draw the circuit\n",
    "european_call.draw()\n",
    "\n",
    "from qiskit_finance.applications.estimation import EuropeanCallPricing\n",
    "\n",
    "european_call_pricing = EuropeanCallPricing(\n",
    "    num_state_qubits=num_uncertainty_qubits,\n",
    "    strike_price=strike_price,\n",
    "    rescaling_factor=c_approx,\n",
    "    bounds=(low, high),\n",
    "    uncertainty_model=uncertainty_model,\n",
    ")\n",
    "\n",
    "epsilon = 0.01\n",
    "alpha = 0.05\n",
    "\n",
    "# exact_value = np.dot(uncertainty_model.probabilities, y)\n",
    "qi = QuantumInstance(Aer.get_backend(\"aer_simulator\"), shots=4000)\n",
    "problem = european_call_pricing.to_estimation_problem()\n",
    "# construct amplitude estimation\n",
    "ae = IterativeAmplitudeEstimation(epsilon, alpha=alpha, quantum_instance=qi)\n",
    "result = ae.estimate(problem)\n",
    "\n",
    "conf_int = np.array(result.confidence_interval_processed)\n",
    "# print(\"Exact value:        \\t%.4f\" % exact_value)\n",
    "time_end = time.time()\n",
    "print(f\"running time on simulator: {time_end-time_start}\")\n",
    "print(\"Estimated value:    \\t%.4f\" % (european_call_pricing.interpret(result)))\n",
    "print(\"Confidence interval:\\t[%.4f, %.4f]\" % tuple(conf_int))"
   ]
  },
  {
   "cell_type": "code",
   "execution_count": null,
   "metadata": {
    "pycharm": {
     "name": "#%%\n"
    }
   },
   "outputs": [],
   "source": [
    "Aer.backends()"
   ]
  },
  {
   "cell_type": "code",
   "execution_count": 88,
   "metadata": {
    "pycharm": {
     "name": "#%%\n"
    }
   },
   "outputs": [
    {
     "data": {
      "text/plain": [
       "[AerSimulator('aer_simulator'),\n",
       " AerSimulator('aer_simulator_statevector'),\n",
       " AerSimulator('aer_simulator_density_matrix'),\n",
       " AerSimulator('aer_simulator_stabilizer'),\n",
       " AerSimulator('aer_simulator_matrix_product_state'),\n",
       " AerSimulator('aer_simulator_extended_stabilizer'),\n",
       " AerSimulator('aer_simulator_unitary'),\n",
       " AerSimulator('aer_simulator_superop'),\n",
       " QasmSimulator('qasm_simulator'),\n",
       " StatevectorSimulator('statevector_simulator'),\n",
       " UnitarySimulator('unitary_simulator'),\n",
       " PulseSimulator('pulse_simulator')]"
      ]
     },
     "execution_count": 88,
     "metadata": {},
     "output_type": "execute_result"
    }
   ],
   "source": [
    "Aer.backends()"
   ]
  },
  {
   "cell_type": "code",
   "execution_count": null,
   "metadata": {
    "pycharm": {
     "name": "#%%\n"
    }
   },
   "outputs": [],
   "source": []
  }
 ],
 "metadata": {
  "kernelspec": {
   "display_name": "Python 3 (ipykernel)",
   "language": "python",
   "name": "python3"
  },
  "language_info": {
   "codemirror_mode": {
    "name": "ipython",
    "version": 3
   },
   "file_extension": ".py",
   "mimetype": "text/x-python",
   "name": "python",
   "nbconvert_exporter": "python",
   "pygments_lexer": "ipython3",
   "version": "3.9.12"
  }
 },
 "nbformat": 4,
 "nbformat_minor": 1
}